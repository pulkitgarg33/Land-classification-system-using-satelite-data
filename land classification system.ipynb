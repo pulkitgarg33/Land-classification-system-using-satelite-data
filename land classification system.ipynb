{
  "cells": [
    {
      "metadata": {
        "_uuid": "8f2839f25d086af736a60e9eeb907d3b93b6e0e5",
        "_cell_guid": "b1076dfc-b9ad-4769-8c92-a6c4dae69d19",
        "trusted": true
      },
      "cell_type": "code",
      "source": "# This Python 3 environment comes with many helpful analytics libraries installed\n# It is defined by the kaggle/python docker image: https://github.com/kaggle/docker-python\n# For example, here's several helpful packages to load in \n\nimport numpy as np # linear algebra\nimport pandas as pd # data processing, CSV file I/O (e.g. pd.read_csv)\nimport seaborn as sns\nimport matplotlib.pyplot as plt\n# Input data files are available in the \"../input/\" directory.\n# For example, running this (by clicking run or pressing Shift+Enter) will list the files in the input directory\n\nimport os\nprint(os.listdir(\"../input/land classification challenge/socialcops_challenge\"))\n\n# Any results you write to the current directory are saved as output.",
      "execution_count": null,
      "outputs": []
    },
    {
      "metadata": {
        "_uuid": "e1ec45614c4417ca92ea99210343b353c16ee9ca"
      },
      "cell_type": "markdown",
      "source": "**Importing the test data and the train data**"
    },
    {
      "metadata": {
        "_cell_guid": "79c7e3d0-c299-4dcb-8224-4455121ee9b0",
        "_uuid": "d629ff2d2480ee46fbb7e2d37f6b5fab8052498a",
        "trusted": true
      },
      "cell_type": "code",
      "source": "dataset = pd.read_csv('../input/land classification challenge/socialcops_challenge/land_train.csv')\ntest = pd.read_csv('../input/land classification challenge/socialcops_challenge/land_test.csv')",
      "execution_count": null,
      "outputs": []
    },
    {
      "metadata": {
        "_uuid": "db70d27ce9540e86d3af2d1bf553b480e0d32bcb"
      },
      "cell_type": "markdown",
      "source": "identifying the training features and the dependent variable (target)"
    },
    {
      "metadata": {
        "trusted": true,
        "_uuid": "37188c9f46d353fe8db2418a36602bf676e409de"
      },
      "cell_type": "code",
      "source": "print(dataset.columns)\nprint(test.columns)",
      "execution_count": null,
      "outputs": []
    },
    {
      "metadata": {
        "_uuid": "e42f5fc652245f8482831bd3200074ed359659fd"
      },
      "cell_type": "markdown",
      "source": "**First of all checking the dataset for missing values**"
    },
    {
      "metadata": {
        "trusted": true,
        "_uuid": "ccd36a4cd4e78ec0f7fc5546e47e9f6c9c858cd5"
      },
      "cell_type": "code",
      "source": "dataset.isna().sum()",
      "execution_count": null,
      "outputs": []
    },
    {
      "metadata": {
        "trusted": true,
        "_uuid": "140be6b856c5ae371ce725b65531a26516e0abcf"
      },
      "cell_type": "code",
      "source": "test.isna().sum()",
      "execution_count": null,
      "outputs": []
    },
    {
      "metadata": {
        "_uuid": "d686cfc209c4e5ce2910efced2fcef62ef40d7ac"
      },
      "cell_type": "markdown",
      "source": "GREAT BOTH THE TRAINING AND THE TESTING DATA ARE FREE FREOM MISSING VALUES :)"
    },
    {
      "metadata": {
        "_uuid": "07c2b77c96d541df7c32e1c234a1961bc3a3c103"
      },
      "cell_type": "markdown",
      "source": "**AS WE HAVE 4 POSSIBLE VALUES FOR THE 'TARGET' VARIABLE, HENCE CHECKING WHETHER THE DATA CORRESPONDING TO THESE 4 CATEGORIES IS BALANCED OR NOT **"
    },
    {
      "metadata": {
        "trusted": true,
        "_uuid": "2c75d208fb619ceeed1845ebe146c33b6a9565fb"
      },
      "cell_type": "code",
      "source": "dataset['target'].hist()",
      "execution_count": null,
      "outputs": []
    },
    {
      "metadata": {
        "_uuid": "08acceeeb82baa290d1b2de17ffeee8bf877bae1"
      },
      "cell_type": "markdown",
      "source": "As we can see with the above histogram, the data is imbalanced. Therefore training on this data may lead to results that are biased towards the categories that have higher occurence in training data"
    },
    {
      "metadata": {
        "_uuid": "8f0db928c9c61b77a5429d7138ed9a8b31e91392"
      },
      "cell_type": "markdown",
      "source": "**ANALYZING THE X1 - X6 FEATURES AGAINST THE TARGET VARIABLE**"
    },
    {
      "metadata": {
        "trusted": true,
        "_uuid": "e12e888048f805832bb94d237da7d0be835f3ccf"
      },
      "cell_type": "code",
      "source": "print(dataset[['target' , 'X1']].groupby(['target']).mean())\nplt.plot(dataset[['target' , 'X1']].groupby(['target']).mean())\nsns.catplot(x='target', y='X1',  kind='bar', data=dataset)",
      "execution_count": null,
      "outputs": []
    },
    {
      "metadata": {
        "trusted": true,
        "_uuid": "e08cbf6b6196080daab2eabe70f6f13349b68664"
      },
      "cell_type": "code",
      "source": "print(dataset[['target' , 'X2']].groupby(['target']).mean())\nplt.plot(dataset[['target' , 'X2']].groupby(['target']).mean())\nsns.catplot(x='target', y='X2',  kind='bar', data=dataset)",
      "execution_count": null,
      "outputs": []
    },
    {
      "metadata": {
        "trusted": true,
        "_uuid": "6a75acd2d199511aaff49daff520feefde5a90c0"
      },
      "cell_type": "code",
      "source": "print(dataset[['target' , 'X3']].groupby(['target']).mean())\nplt.plot(dataset[['target' , 'X3']].groupby(['target']).mean())\nsns.catplot(x='target', y='X3',  kind='bar', data=dataset)",
      "execution_count": null,
      "outputs": []
    },
    {
      "metadata": {
        "trusted": true,
        "_uuid": "d0a89cab1acc327e6519f88a69bd51bcc7d04ddd"
      },
      "cell_type": "code",
      "source": "print(dataset[['target' , 'X4']].groupby(['target']).mean())\nplt.plot(dataset[['target' , 'X4']].groupby(['target']).mean())\nsns.catplot(x='target', y='X4',  kind='bar', data=dataset)",
      "execution_count": null,
      "outputs": []
    },
    {
      "metadata": {
        "trusted": true,
        "_uuid": "b3420352398975f39279298261ad9613b9bec784"
      },
      "cell_type": "code",
      "source": "print(dataset[['target' , 'X5']].groupby(['target']).mean())\nplt.plot(dataset[['target' , 'X5']].groupby(['target']).mean())\nsns.catplot(x='target', y='X5',  kind='bar', data=dataset)",
      "execution_count": null,
      "outputs": []
    },
    {
      "metadata": {
        "trusted": true,
        "_uuid": "5dc03487f18902f675ddedb468980fc8cf512db5"
      },
      "cell_type": "code",
      "source": "print(dataset[['target' , 'X6']].groupby(['target']).mean())\nplt.plot(dataset[['target' , 'X6']].groupby(['target']).mean())\nsns.catplot(x='target', y='X6',  kind='bar', data=dataset)",
      "execution_count": null,
      "outputs": []
    },
    {
      "metadata": {
        "trusted": true,
        "_uuid": "5ad48c02ea7cb967920cdcc0aa6521a43ba9e9d8"
      },
      "cell_type": "code",
      "source": "print(dataset[['target' , 'I1']].groupby(['target']).mean())\nplt.plot(dataset[['target' , 'I1']].groupby(['target']).mean())\nsns.catplot(x='target', y='I1',  kind='bar', data=dataset)",
      "execution_count": null,
      "outputs": []
    },
    {
      "metadata": {
        "trusted": true,
        "_uuid": "47b04db4f3f3c8c821551a90e706903295d83a67"
      },
      "cell_type": "code",
      "source": "print(dataset[['target' , 'I2']].groupby(['target']).mean())\nplt.plot(dataset[['target' , 'I2']].groupby(['target']).mean())\nsns.catplot(x='target', y='I2',  kind='bar', data=dataset)",
      "execution_count": null,
      "outputs": []
    },
    {
      "metadata": {
        "trusted": true,
        "_uuid": "5ba686f5e290fb0d7f9c3be09f208f49fa9c5336"
      },
      "cell_type": "code",
      "source": "print(dataset[['target' , 'I3']].groupby(['target']).mean())\nplt.plot(dataset[['target' , 'I3']].groupby(['target']).mean())\nsns.catplot(x='target', y='I3',  kind='bar', data=dataset)",
      "execution_count": null,
      "outputs": []
    },
    {
      "metadata": {
        "trusted": true,
        "_uuid": "9bd3cc9edc10ca70970e823c7bd44608091f889c"
      },
      "cell_type": "code",
      "source": "print(dataset[['target' , 'I4']].groupby(['target']).mean())\nplt.plot(dataset[['target' , 'I4']].groupby(['target']).mean())\nsns.catplot(x='target', y='I4',  kind='bar', data=dataset)",
      "execution_count": null,
      "outputs": []
    },
    {
      "metadata": {
        "trusted": true,
        "_uuid": "063c5a5ca72df673989b7e66e65e4ce3f7c87118"
      },
      "cell_type": "code",
      "source": "print(dataset[['target' , 'I5']].groupby(['target']).mean())\nplt.plot(dataset[['target' , 'I5']].groupby(['target']).mean())\nsns.catplot(x='target', y='I5',  kind='bar', data=dataset)",
      "execution_count": null,
      "outputs": []
    },
    {
      "metadata": {
        "trusted": true,
        "_uuid": "6ea73a3a2b1830311be745b95f9238b3a6932e0c"
      },
      "cell_type": "code",
      "source": "print(dataset[['target' , 'I6']].groupby(['target']).mean())\nplt.plot(dataset[['target' , 'I6']].groupby(['target']).mean())\nsns.catplot(x='target', y='I6',  kind='bar', data=dataset)",
      "execution_count": null,
      "outputs": []
    },
    {
      "metadata": {
        "trusted": true,
        "_uuid": "9537c8cf160a4c109fe5eea35c112295d6942511"
      },
      "cell_type": "markdown",
      "source": "FROM THE ABOVE PLOTS WE HAVE OBSERVED THAT, CATEGORY 3 AND 4, GENERALLY HAVE THE HIGHER VALUE FOR X1-X6 FEATURES\n\nAND THE MAGNITUDE OF FEATURE VALUES I1-U6 IS GREATER FOR TARGET VALUE 1 AND 2"
    },
    {
      "metadata": {
        "trusted": true,
        "_uuid": "07ecad7cf75c7e6a7a3ea54b7490e1df30adaa1f"
      },
      "cell_type": "code",
      "source": "print(dataset.min())\nprint(dataset.max())",
      "execution_count": null,
      "outputs": []
    },
    {
      "metadata": {
        "trusted": true,
        "_uuid": "888b7422f794ef88c1f28b13cb066687efaafc89"
      },
      "cell_type": "markdown",
      "source": "as we can notice X1 - X6 features are all positive integers spanning from 0 - 10000 and I1-I6 \n\nso to simplify the training process and making our model better,lets transform the I1-I6 features to positive values by adding a bias"
    },
    {
      "metadata": {
        "trusted": true,
        "_uuid": "353b9fe6579f2efb978a7627c3987a37bd3523f3"
      },
      "cell_type": "code",
      "source": "dataset.iloc[: , 6:-1] = dataset.iloc[: , 6:-1] + 5\ntest.iloc[: , 6:-1] = test.iloc[: , 6:] + 5",
      "execution_count": null,
      "outputs": []
    },
    {
      "metadata": {
        "_uuid": "9077c31dd43d8ce156950809183defcb51f25430"
      },
      "cell_type": "markdown",
      "source": "AS THE DATASET SET PROVIDED ID NOT SHUFFLED ON THE DEPENDANT VARIABLE. HENCE SHUFFLIING IT."
    },
    {
      "metadata": {
        "trusted": true,
        "_uuid": "e8a5b65c62ac9c583cc80a1649489867d4eccf88"
      },
      "cell_type": "code",
      "source": "from sklearn.utils import shuffle\ndataset = shuffle(dataset)\ndataset = shuffle(dataset).reset_index()\ndataset.drop('index' , axis = 1 , inplace = True)",
      "execution_count": null,
      "outputs": []
    },
    {
      "metadata": {
        "trusted": true,
        "_uuid": "2ae2bd6830449f1746204e20ffd5b74e1b20360c"
      },
      "cell_type": "code",
      "source": "dataset",
      "execution_count": null,
      "outputs": []
    },
    {
      "metadata": {
        "trusted": true,
        "_uuid": "3b04b406f3c16af83dcaf34f183e9697388ca20d"
      },
      "cell_type": "code",
      "source": "print(dataset.min())\nprint(dataset.max())",
      "execution_count": null,
      "outputs": []
    },
    {
      "metadata": {
        "trusted": true,
        "_uuid": "e7dc192451824aa485676e89063cfbbf39cf168a"
      },
      "cell_type": "code",
      "source": "y_train = dataset.iloc[: , -1:]\ndataset.drop('target' , axis =1 , inplace = True)",
      "execution_count": null,
      "outputs": []
    },
    {
      "metadata": {
        "_uuid": "03b4eae64cffc618b5c9101e5332bd1f62a296bc"
      },
      "cell_type": "markdown",
      "source": "**DEALING WITH THE IMBALANCED DATA USING OVER SAMPLING**"
    },
    {
      "metadata": {
        "trusted": true,
        "_uuid": "88cc3d3a5b40141434e1f970bf3703bb50d87c33"
      },
      "cell_type": "code",
      "source": "from imblearn.over_sampling import SMOTE",
      "execution_count": null,
      "outputs": []
    },
    {
      "metadata": {
        "trusted": true,
        "_uuid": "4daa5dfa8d5085cd27b2b2d53be6272b6260819c"
      },
      "cell_type": "code",
      "source": "sm = SMOTE(random_state= 2)\nx_train , y = sm.fit_sample (dataset , y_train)",
      "execution_count": null,
      "outputs": []
    },
    {
      "metadata": {
        "trusted": true,
        "_uuid": "a2e407230ccf9e843e40108a4304630a086a843e"
      },
      "cell_type": "code",
      "source": "pd.DataFrame(y).hist()",
      "execution_count": null,
      "outputs": []
    },
    {
      "metadata": {
        "trusted": true,
        "_uuid": "a03dfbb485a17bd4ea7fe9d4c53b5f4ef6c0b38f"
      },
      "cell_type": "markdown",
      "source": "HENCE WE HAVE REMOVED THE IMBALANCED DATA PROBLEM"
    },
    {
      "metadata": {
        "trusted": true,
        "_uuid": "c79ab4cb93e8294e49959820110b29f8a8d5d548"
      },
      "cell_type": "markdown",
      "source": "**NOW NORMALIZING THE DATA**"
    },
    {
      "metadata": {
        "trusted": true,
        "_uuid": "4d7a6543e789ce995e873d323527d37ef3f1cd11"
      },
      "cell_type": "code",
      "source": "from sklearn.preprocessing import MinMaxScaler\n",
      "execution_count": null,
      "outputs": []
    },
    {
      "metadata": {
        "trusted": true,
        "_uuid": "8258e06372ee6c207ada34a4b8edb0341d3770b0"
      },
      "cell_type": "code",
      "source": "normalizer_x = MinMaxScaler()  #for normalizing x1-x6\nnormalizer_i = MinMaxScaler()  #for normalizing i1-i6",
      "execution_count": null,
      "outputs": []
    },
    {
      "metadata": {
        "trusted": true,
        "_uuid": "3a7b1ee123a77fb67ffdfa81acfdd89d0ce339e9"
      },
      "cell_type": "code",
      "source": "test.shape",
      "execution_count": null,
      "outputs": []
    },
    {
      "metadata": {
        "trusted": true,
        "_uuid": "bdc41a60d2efa22b248f8aa8832985f6fe41c574"
      },
      "cell_type": "code",
      "source": "x_train[: , :6] = normalizer_x.fit_transform(x_train[: , :6])\nx_train[: , 6:] = normalizer_i.fit_transform(x_train[: , 6:])\n\ntest.iloc[: , :6] = normalizer_x.fit_transform(test.iloc[: , :6])\ntest.iloc[: , 6:] = normalizer_i.fit_transform(test.iloc[: , 6:])\n",
      "execution_count": null,
      "outputs": []
    },
    {
      "metadata": {
        "trusted": true,
        "_uuid": "3dabe6311f94060b9d523a8a0dcfe435e570038e"
      },
      "cell_type": "code",
      "source": "x_train = pd.DataFrame(x_train)",
      "execution_count": null,
      "outputs": []
    },
    {
      "metadata": {
        "trusted": true,
        "_uuid": "3e86c2a2f914663fb94d4b8f3aace0fb183899c9"
      },
      "cell_type": "code",
      "source": "print(x_train.min())\nprint(x_train.max())",
      "execution_count": null,
      "outputs": []
    },
    {
      "metadata": {
        "trusted": true,
        "_uuid": "1aad13f972db353f3a8abccb6b59bb90e464c4a7"
      },
      "cell_type": "code",
      "source": "y = y.reshape((len(y) , 1))",
      "execution_count": null,
      "outputs": []
    },
    {
      "metadata": {
        "trusted": true,
        "_uuid": "11c8fd926b9ea592601b0a75b31b374058a1364e"
      },
      "cell_type": "code",
      "source": "#now as our dependant variable is categorical. therefore preprocessing it\nfrom sklearn.preprocessing import OneHotEncoder\nohe = OneHotEncoder()",
      "execution_count": null,
      "outputs": []
    },
    {
      "metadata": {
        "trusted": true,
        "_uuid": "a3a519471c1dfdcb4159d97fb9db18f58ab3e362"
      },
      "cell_type": "code",
      "source": "y = ohe.fit_transform(y)",
      "execution_count": null,
      "outputs": []
    },
    {
      "metadata": {
        "_uuid": "756e4be75f7b98e7caa6644ba8c5bcd275616d18"
      },
      "cell_type": "markdown",
      "source": "**NOW THE TRAINING PART BEGINS**"
    },
    {
      "metadata": {
        "trusted": true,
        "_uuid": "39ae3e139dbc7a79fd85e357527df44b266b0b24"
      },
      "cell_type": "code",
      "source": "# Importing the Keras libraries and packages\nimport keras\nfrom keras.models import Sequential\nfrom keras.layers import Dense\n\n# Initialising the ANN\nclassifier = Sequential()\n\n# Adding the input layer and the first hidden layer\nclassifier.add(Dense(units = 12, kernel_initializer = 'uniform', activation = 'relu', input_dim = 12))\n\n# Adding the second hidden layer\nclassifier.add(Dense(units = 6, kernel_initializer = 'uniform', activation = 'sigmoid'))\n\n# Adding the output layer\nclassifier.add(Dense(units = 4, kernel_initializer = 'uniform', activation = 'softmax'))\n\n# Compiling the ANN\nclassifier.compile(optimizer = 'adam', loss = 'binary_crossentropy', metrics = ['accuracy'])\n\n# Fitting the ANN to the Training set\nclassifier.fit(x_train ,y, batch_size = 100, epochs = 25 , validation_split = 0.1)\n",
      "execution_count": null,
      "outputs": []
    },
    {
      "metadata": {
        "_uuid": "96524c980a6dcf1d840c8363a2fcece35f359432"
      },
      "cell_type": "markdown",
      "source": "HENCE WITH A SIMPLE 3 LAYER NN WE ARE ABLE ACHIEVE ALMOST 90% VALIDATION ACCURACY. WHICH IS DESCENT !\nHENCE OUR MODEL IS ABLE TO GENERALIZE."
    },
    {
      "metadata": {
        "_uuid": "96e3360b9dd08a6299cc9dbcf7d61e6c4f98ce16"
      },
      "cell_type": "markdown",
      "source": "***NOW MAKING PREDICTIONS .................................................................***"
    },
    {
      "metadata": {
        "trusted": true,
        "_uuid": "5b5c376131ec2f63347bad535f9b16060bd0bb10"
      },
      "cell_type": "code",
      "source": "# storing the results\ny_pred_1 = np.argmax( classifier.predict(test) , axis = 1)",
      "execution_count": null,
      "outputs": []
    },
    {
      "metadata": {
        "trusted": true,
        "_uuid": "22bfcb7e9d700df39914aee8fbfc0135c0af00c7"
      },
      "cell_type": "code",
      "source": "y_pred_1 = y_pred_1 + 1",
      "execution_count": null,
      "outputs": []
    },
    {
      "metadata": {
        "trusted": true,
        "_uuid": "982cadc9fcdfd074bc25695ba92d678beb29fff2"
      },
      "cell_type": "code",
      "source": "y_pred_1 = pd.DataFrame(y_pred_1)",
      "execution_count": null,
      "outputs": []
    },
    {
      "metadata": {
        "trusted": true,
        "_uuid": "d02c3a4e52701fd1a1165282bd61232a0ad3693b"
      },
      "cell_type": "code",
      "source": "y_pred_1.hist()",
      "execution_count": null,
      "outputs": []
    },
    {
      "metadata": {
        "trusted": true,
        "_uuid": "af8c6027be6f469ba92bf8a33a580486d34a6dde"
      },
      "cell_type": "code",
      "source": "",
      "execution_count": null,
      "outputs": []
    }
  ],
  "metadata": {
    "kernelspec": {
      "display_name": "Python 3",
      "language": "python",
      "name": "python3"
    },
    "language_info": {
      "name": "python",
      "version": "3.6.6",
      "mimetype": "text/x-python",
      "codemirror_mode": {
        "name": "ipython",
        "version": 3
      },
      "pygments_lexer": "ipython3",
      "nbconvert_exporter": "python",
      "file_extension": ".py"
    }
  },
  "nbformat": 4,
  "nbformat_minor": 1
}
